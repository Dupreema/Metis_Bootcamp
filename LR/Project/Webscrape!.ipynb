{
 "cells": [
  {
   "cell_type": "code",
   "execution_count": 387,
   "id": "impressive-terrain",
   "metadata": {},
   "outputs": [],
   "source": [
    "from bs4 import BeautifulSoup\n",
    "import requests\n",
    "import time, os\n",
    "from selenium import webdriver\n",
    "from selenium.webdriver.common.keys import Keys\n",
    "from selenium.webdriver.common.by import By\n",
    "from selenium.webdriver.chrome.options import Options\n",
    "from selenium.common.exceptions import StaleElementReferenceException, NoSuchElementException, ElementClickInterceptedException\n",
    "from selenium.webdriver.support.ui import WebDriverWait\n",
    "from selenium.webdriver.support import expected_conditions as EC\n",
    "import numpy as np\n",
    "from fake_useragent import UserAgent as ua\n",
    "import random"
   ]
  },
  {
   "cell_type": "code",
   "execution_count": 388,
   "id": "sound-expression",
   "metadata": {},
   "outputs": [],
   "source": [
    "chromedriver = \"/Applications/chromedriver\" \n",
    "os.environ[\"webdriver.chrome.driver\"] = chromedriver"
   ]
  },
  {
   "cell_type": "code",
   "execution_count": 3,
   "id": "numerical-swedish",
   "metadata": {},
   "outputs": [],
   "source": [
    "# path_to_extension = '/Library/Application Support/Google/Chrome/Default/Extensions/cfhdojbkjhnklbpkdaibdccddilifddb/3.10.2_0'\n",
    "# #add adblock extention to load my selenium with adblock\n",
    "\n",
    "# options = webdriver.ChromeOptions()\n",
    "# options.add_argument(path_to_extension)\n",
    "\n"
   ]
  },
  {
   "cell_type": "code",
   "execution_count": 389,
   "id": "italian-probe",
   "metadata": {},
   "outputs": [],
   "source": [
    "ua = UserAgent()\n",
    "full_header = {\n",
    "    'accept': 'text/html,application/xhtml+xml,application/xml;q=0.9,image/webp,image/apng,*/*;q=0.8',\n",
    "    'accept-encoding': 'gzip, deflate, br',\n",
    "    'accept-language': 'en-US,en;q=0.8',\n",
    "    'upgrade-insecure-requests': '1',\n",
    "   'user-agent': ua.random\n",
    "}"
   ]
  },
  {
   "cell_type": "code",
   "execution_count": 400,
   "id": "latest-saturday",
   "metadata": {},
   "outputs": [],
   "source": [
    "driver = webdriver.Chrome(executable_path= chromedriver)"
   ]
  },
  {
   "cell_type": "code",
   "execution_count": 6,
   "id": "tired-chase",
   "metadata": {},
   "outputs": [],
   "source": [
    "# #print(nonprofit_link)\n",
    "# print(nonprofit_name)\n",
    "# print(nonprofit_type) ##FIGURE THIS PART OUT LATER"
   ]
  },
  {
   "cell_type": "code",
   "execution_count": 401,
   "id": "formed-defense",
   "metadata": {},
   "outputs": [],
   "source": [
    "page = 'https://projects.propublica.org/nonprofits/search?c_code%5Bid%5D=&ntee%5Bid%5D=&page=8&q=New+York%2C+NY&state%5Bid%5D=NY'\n",
    "driver.get(page)"
   ]
  },
  {
   "cell_type": "code",
   "execution_count": 363,
   "id": "breeding-missouri",
   "metadata": {},
   "outputs": [],
   "source": []
  },
  {
   "cell_type": "code",
   "execution_count": 402,
   "id": "entitled-passage",
   "metadata": {},
   "outputs": [
    {
     "name": "stdout",
     "output_type": "stream",
     "text": [
      "['SEAPORT MUSEUM NEW YORK', 'NY', 7, 2018, 108, 4223224.0, 5356985.0, 14852203.0, 607477.0, 0, 'Yes', 197981.0, 0.0, 50171.0, 0, 0]\n",
      "['NEW YORK FOUNDLING', 'NY', 25, 2018, 2656, 157551022.0, 156458569.0, 151287909.0, 67995525.0, 0, 'Yes', 3300044.0, 0.0, 454051.0, 0, 0]\n",
      "['APPNA NEW YORK CHAPTER INC', 'NY', 5, 2019, 0, 77373.0, 57512.0, 128207.0, 0.0, 0, 'No', 0.0, 0.0, 0.0, 100.0, 0.0]\n",
      "['ARTS EAST NEW YORK INC', 'NY', 7, 2015, 0, 390472.0, 356888.0, 99278.0, 0.0, 0, 'No', 0, 0, 0, 0.0, 0.0]\n",
      "['CITY ACCESS NEW YORK INC', 'NY', 8, 2018, 41, 3100071.0, 3131090.0, 1652680.0, 228581.0, 0, 'Yes', 134042.0, 0.0, 0.0, 99.9, 0.1]\n",
      "['EDIBLE SCHOOLYARD NYC', 'NY', 20, 2018, 37, 2325191.0, 2130602.0, 1239253.0, 15023.0, 0, 'Yes', 368301.0, 0.0, 29645.0, 84.96, 0.02]\n",
      "['NEW YORK ATHLETIC CLUB', 'NY', 19, 2018, 672, 61630228.0, 60785620.0, 81733603.0, 8115617.0, 0, 'Yes', 1869539.0, 0.0, 139674.0, 0, 0]\n",
      "No Such\n",
      "['NEW YORK CITY H2O', 'NY', 7, 2018, 0, 251960.0, 237267.0, 31496.0, 0.0, 0, 'No', 60000.0, 0.0, 0.0, 100.0, 0.0]\n",
      "['NEW YORK FELLOWSHIP INC', 'NY', 7, 2018, 3, 327144.0, 387484.0, 639845.0, 13559.0, 0, 'No', 142325.0, 0, 66935.0, 0, 0]\n",
      "['NEW YORK FOLKLORE SOCIETY INC', 'NY', 10, 2018, 5, 370763.0, 369289.0, 21534.0, 34313.0, 0, 'No', 61970.0, 0, 0, 0, 0]\n"
     ]
    },
    {
     "ename": "KeyboardInterrupt",
     "evalue": "",
     "output_type": "error",
     "traceback": [
      "\u001b[0;31m---------------------------------------------------------------------------\u001b[0m",
      "\u001b[0;31mKeyboardInterrupt\u001b[0m                         Traceback (most recent call last)",
      "\u001b[0;32m<ipython-input-402-1691f16dc110>\u001b[0m in \u001b[0;36m<module>\u001b[0;34m\u001b[0m\n\u001b[1;32m     32\u001b[0m             \u001b[0mtime\u001b[0m\u001b[0;34m.\u001b[0m\u001b[0msleep\u001b[0m\u001b[0;34m(\u001b[0m\u001b[0;36m.5\u001b[0m\u001b[0;34m+\u001b[0m\u001b[0;36m2\u001b[0m\u001b[0;34m*\u001b[0m\u001b[0mrandom\u001b[0m\u001b[0;34m.\u001b[0m\u001b[0mrandom\u001b[0m\u001b[0;34m(\u001b[0m\u001b[0;34m)\u001b[0m\u001b[0;34m)\u001b[0m\u001b[0;34m\u001b[0m\u001b[0;34m\u001b[0m\u001b[0m\n\u001b[1;32m     33\u001b[0m             \u001b[0;32mtry\u001b[0m\u001b[0;34m:\u001b[0m\u001b[0;34m\u001b[0m\u001b[0;34m\u001b[0m\u001b[0m\n\u001b[0;32m---> 34\u001b[0;31m                 \u001b[0mtime\u001b[0m\u001b[0;34m.\u001b[0m\u001b[0msleep\u001b[0m\u001b[0;34m(\u001b[0m\u001b[0;36m2.5\u001b[0m\u001b[0;34m+\u001b[0m\u001b[0;36m2\u001b[0m\u001b[0;34m*\u001b[0m\u001b[0mrandom\u001b[0m\u001b[0;34m.\u001b[0m\u001b[0mrandom\u001b[0m\u001b[0;34m(\u001b[0m\u001b[0;34m)\u001b[0m\u001b[0;34m)\u001b[0m\u001b[0;34m\u001b[0m\u001b[0;34m\u001b[0m\u001b[0m\n\u001b[0m\u001b[1;32m     35\u001b[0m                 \u001b[0mfull_filing\u001b[0m \u001b[0;34m=\u001b[0m \u001b[0mdriver\u001b[0m\u001b[0;34m.\u001b[0m\u001b[0mfind_element_by_partial_link_text\u001b[0m\u001b[0;34m(\u001b[0m\u001b[0;34m\"Full Filing\"\u001b[0m\u001b[0;34m)\u001b[0m\u001b[0;34m\u001b[0m\u001b[0;34m\u001b[0m\u001b[0m\n\u001b[1;32m     36\u001b[0m                 \u001b[0mfull_filing\u001b[0m\u001b[0;34m.\u001b[0m\u001b[0mclick\u001b[0m\u001b[0;34m(\u001b[0m\u001b[0;34m)\u001b[0m\u001b[0;34m\u001b[0m\u001b[0;34m\u001b[0m\u001b[0m\n",
      "\u001b[0;31mKeyboardInterrupt\u001b[0m: "
     ]
    }
   ],
   "source": [
    "single_nonprofit= []\n",
    "valid_nonprofit= []\n",
    "nonprofit_link = []\n",
    "nonprofit_name = []\n",
    "nonprofit_type = []\n",
    "nonprofit_data = []\n",
    "#page = 'https://projects.propublica.org/nonprofits/search?c_code%5Bid%5D=&ntee%5Bid%5D=&page=94&q=united+states&state%5Bid%5D='\n",
    "#page = \"https://projects.propublica.org/nonprofits/search?utf8=%E2%9C%93&q=united+states&state%5Bid%5D=&ntee%5Bid%5D=&c_code%5Bid%5D=\"\n",
    "\n",
    "\n",
    "for i in range(0,101):\n",
    "    try:\n",
    "        soup = BeautifulSoup(driver.page_source, 'html.parser')\n",
    "        table = soup.find('table')\n",
    "        rows = [row for row in table.find_all('tr')] \n",
    "\n",
    "        for row in enumerate(rows):\n",
    "            if row[0] != 0:\n",
    "                if(len((row[1].find('td', class_ = 'numeric').text))) > 3:\n",
    "                       valid_nonprofit.append(row[1])\n",
    "\n",
    "        for nonprofit in valid_nonprofit:\n",
    "            nonprofit_link.append('https://projects.propublica.org' + nonprofit.find('a')['href'])\n",
    "            nonprofit_name.append(nonprofit.find('a').text)\n",
    "            nonprofit_type.append(nonprofit.find_all('td')[2].text)\n",
    "\n",
    "        for link in nonprofit_link:\n",
    "            driver.switch_to.window(driver.window_handles[0])\n",
    "            driver.execute_script(f'''window.open('{link}', '_blank');''')\n",
    "            time.sleep(.5+2*random.random())\n",
    "            driver.switch_to.window(driver.window_handles[1])\n",
    "            time.sleep(.5+2*random.random())\n",
    "            try:\n",
    "                time.sleep(2.5+2*random.random())\n",
    "                full_filing = driver.find_element_by_partial_link_text(\"Full Filing\")\n",
    "                full_filing.click()\n",
    "                response = requests.get(driver.current_url, headers= full_header)\n",
    "                page= response.text\n",
    "                soup = BeautifulSoup(page, 'html.parser')\n",
    "                new_link = soup.find('iframe').attrs['src']\n",
    "                document_link = 'https://projects.propublica.org' + new_link\n",
    "                document_link\n",
    "                url = document_link\n",
    "                response = requests.get(url, headers = full_header)\n",
    "                page= response.text\n",
    "                soup = BeautifulSoup(page, 'html.parser')\n",
    "                doc_htmltxt = soup.find('iframe').attrs['srcdoc']\n",
    "                docsoup = BeautifulSoup(doc_htmltxt, 'html.parser')\n",
    "                doc_htmltxt2 = soup.find_all('iframe')[1].attrs['srcdoc']\n",
    "                docsoup2 = BeautifulSoup(doc_htmltxt2, 'html.parser')\n",
    "                time.sleep(.5+2*random.random())\n",
    "                if docsoup.find('span', class_ = 'styFormNumber').text != '990':\n",
    "                    driver.close()\n",
    "                    continue\n",
    "                else:\n",
    "                    if docsoup.find('span', id = '/AppData/SubmissionHeaderAndDocument/ReturnHeader[1]/Filer[1]/BusinessName[1]/BusinessNameLine1Txt[1]') is not None:\n",
    "                        single_nonprofit.append(docsoup.find('span', id = '/AppData/SubmissionHeaderAndDocument/ReturnHeader[1]/Filer[1]/BusinessName[1]/BusinessNameLine1Txt[1]').text)\n",
    "                    else: \n",
    "                        driver.close()\n",
    "                        continue\n",
    "                    single_nonprofit.append(docsoup.find('span', id = '/AppData/SubmissionHeaderAndDocument/ReturnHeader[1]/Filer[1]/USAddress[1]/StateAbbreviationCd[1]').text)\n",
    "                    single_nonprofit.append(int(docsoup.find('span', id = '/AppData/SubmissionHeaderAndDocument/SubmissionDocument/IRS990[1]/VotingMembersGoverningBodyCnt[1]').text.replace(',','')))\n",
    "                    single_nonprofit.append(int('20' + docsoup.find('span', class_ = 'styTYColor').text))\n",
    "                    single_nonprofit.append(int(docsoup.find('span', id = '/AppData/SubmissionHeaderAndDocument/SubmissionDocument/IRS990[1]/TotalEmployeeCnt[1]').text.replace(',','')))\n",
    "                    single_nonprofit.append(float(docsoup.find('span', id = '/AppData/SubmissionHeaderAndDocument/SubmissionDocument/IRS990[1]/CYTotalRevenueAmt[1]').text.replace(',', '')))\n",
    "                    single_nonprofit.append(float(docsoup.find('span', id = '/AppData/SubmissionHeaderAndDocument/SubmissionDocument/IRS990[1]/CYTotalExpensesAmt[1]').text.replace(',', '')))\n",
    "                    single_nonprofit.append(float(docsoup.find('span', id = '/AppData/SubmissionHeaderAndDocument/SubmissionDocument/IRS990[1]/TotalAssetsEOYAmt[1]').text.replace(',', '')))\n",
    "                    single_nonprofit.append(float(docsoup.find('span', id = '/AppData/SubmissionHeaderAndDocument/SubmissionDocument/IRS990[1]/TotalLiabilitiesEOYAmt[1]').text.replace(',', '')))\n",
    "                    if len(docsoup.find('span', id = '/AppData/SubmissionHeaderAndDocument/SubmissionDocument/IRS990[1]/CYSalariesCompEmpBnftPaidAmt[1]'))>2:\n",
    "                        single_nonprofit.append(float(docsoup.find('span', id = '/AppData/SubmissionHeaderAndDocument/SubmissionDocument/IRS990[1]/CYSalariesCompEmpBnftPaidAmt[1]').text.replace(',', '')))\n",
    "                    else:  single_nonprofit.append(0) \n",
    "                    if len(docsoup.find('span', id = '/AppData/SubmissionHeaderAndDocument/SubmissionDocument/IRS990[1]/FSAuditedInd[1]').text)>4:\n",
    "                        single_nonprofit.append('No')\n",
    "                    else:\n",
    "                        single_nonprofit.append(docsoup.find('span', id = '/AppData/SubmissionHeaderAndDocument/SubmissionDocument/IRS990[1]/FSAuditedInd[1]').text)\n",
    "                    if docsoup.find('span', id = '/AppData/SubmissionHeaderAndDocument/SubmissionDocument/IRS990[1]/TotalReportableCompFromOrgAmt[1]') is not None:\n",
    "                         single_nonprofit.append(float(docsoup.find('span', id = '/AppData/SubmissionHeaderAndDocument/SubmissionDocument/IRS990[1]/TotalReportableCompFromOrgAmt[1]').text.replace(',', '')))\n",
    "                    else:  single_nonprofit.append(0)\n",
    "                    if docsoup.find('span', id = '/AppData/SubmissionHeaderAndDocument/SubmissionDocument/IRS990[1]/TotReportableCompRltdOrgAmt[1]') is not None:\n",
    "                        single_nonprofit.append(float(docsoup.find('span', id = '/AppData/SubmissionHeaderAndDocument/SubmissionDocument/IRS990[1]/TotReportableCompRltdOrgAmt[1]').text.replace(',', '')))\n",
    "                    else:  single_nonprofit.append(0)\n",
    "                    if docsoup.find('span', id = '/AppData/SubmissionHeaderAndDocument/SubmissionDocument/IRS990[1]/TotalOtherCompensationAmt[1]') is not None:\n",
    "                         single_nonprofit.append(float(docsoup.find('span', id = '/AppData/SubmissionHeaderAndDocument/SubmissionDocument/IRS990[1]/TotalOtherCompensationAmt[1]').text.replace(',', '')))\n",
    "                    else:  single_nonprofit.append(0)\n",
    "                    if docsoup2.find('span', id = '/AppData/SubmissionHeaderAndDocument/SubmissionDocument/IRS990ScheduleA[1]/PublicSupportCY509Pct[1]') is not None:\n",
    "                         single_nonprofit.append(float(docsoup2.find('span', id = '/AppData/SubmissionHeaderAndDocument/SubmissionDocument/IRS990ScheduleA[1]/PublicSupportCY509Pct[1]').text.replace('%','')))\n",
    "                    else:  single_nonprofit.append(0) \n",
    "                    if docsoup2.find('span', id = '/AppData/SubmissionHeaderAndDocument/SubmissionDocument/IRS990ScheduleA[1]/InvestmentIncomeCYPct[1]') is not None:\n",
    "                        single_nonprofit.append(float(docsoup2.find('span', id = '/AppData/SubmissionHeaderAndDocument/SubmissionDocument/IRS990ScheduleA[1]/InvestmentIncomeCYPct[1]').text.replace('%','')))\n",
    "                    else:  single_nonprofit.append(0)\n",
    "                driver.close()\n",
    "\n",
    "\n",
    "            except NoSuchElementException:\n",
    "                print('No Such')\n",
    "                time.sleep(3+2*random.random())\n",
    "                single_nonprofit.clear()\n",
    "                driver.close()\n",
    "                continue\n",
    "            except ElementClickInterceptedException:\n",
    "                print('Intercept')\n",
    "                time.sleep(1.5+2*random.random())\n",
    "                close_button = driver.find_element_by_class_name(\"close-btn\")\n",
    "                driver.execute_script(\"arguments[0].click();\", close_button)\n",
    "                time.sleep(.5+2*random.random())\n",
    "                single_nonprofit.clear()\n",
    "                #driver.close()\n",
    "            if len(nonprofit_data) == 0:\n",
    "                    nonprofit_data = single_nonprofit\n",
    "            elif len(nonprofit_data)!= 0 and len(single_nonprofit)>2:\n",
    "                    nonprofit_data = np.vstack([nonprofit_data, single_nonprofit])\n",
    "            else:\n",
    "                pass\n",
    "\n",
    "            print(single_nonprofit)\n",
    "            single_nonprofit.clear()\n",
    "                \n",
    "        driver.switch_to.window(driver.window_handles[0])\n",
    "        driver.refresh()\n",
    "        time.sleep(.1 + 2*random.random())\n",
    "        next_page_btn = driver.find_element_by_partial_link_text(\"Next\")\n",
    "        next_page_btn.click()\n",
    "        time.sleep(8 + 5*random.random())\n",
    "        valid_nonprofit.clear()\n",
    "        nonprofit_link.clear()\n",
    "\n",
    "    except NoSuchElementException:\n",
    "        time.sleep(1+2*random.random())\n",
    "        close_button = driver.find_element_by_class_name(\"close-btn\")\n",
    "        driver.execute_script(\"arguments[0].click();\", close_button)\n",
    "        time.sleep(1.5*random.random())\n",
    "        next_page_btn = driver.find_element_by_partial_link_text(\"Next\")\n",
    "        next_page_btn.click\n",
    "        time.sleep(8 + 5*random.random())\n",
    "        valid_nonprofit.clear()\n",
    "        nonprofit_link.clear()\n",
    "    except ElementClickInterceptedException:\n",
    "        time.sleep(1.5+ 2*random.random())\n",
    "        close_button = driver.find_element_by_class_name(\"close-btn\")\n",
    "        driver.execute_script(\"arguments[0].click();\", close_button)\n",
    "        time.sleep(1 + 2*random.random())\n",
    "        next_page_btn = driver.find_element_by_partial_link_text(\"Next\")\n",
    "        next_page_btn.click\n",
    "        time.sleep(11 + 2*random.random())\n",
    "        valid_nonprofit.clear()\n",
    "        nonprofit_link.clear()"
   ]
  },
  {
   "cell_type": "code",
   "execution_count": null,
   "id": "general-chemical",
   "metadata": {},
   "outputs": [],
   "source": [
    "close_button = driver.find_element_by_class_name(\"close-btn\")\n",
    "driver.execute_script(\"arguments[0].click();\", close_button)"
   ]
  },
  {
   "cell_type": "code",
   "execution_count": null,
   "id": "assumed-binding",
   "metadata": {},
   "outputs": [],
   "source": [
    "len(range(0,3))"
   ]
  },
  {
   "cell_type": "code",
   "execution_count": null,
   "id": "engaging-minister",
   "metadata": {},
   "outputs": [],
   "source": [
    "next_page_btn = driver.find_element_by_xpath('//*[@id=\"content\"]/div/div[3]/nav[1]/span[9]/a')\n",
    "next_page_btn.click()\n",
    "time.sleep(4)\n",
    "valid_nonprofit.clear()\n",
    "nonprofit_link.clear()\n",
    "next_page_btn"
   ]
  },
  {
   "cell_type": "code",
   "execution_count": 116,
   "id": "japanese-acoustic",
   "metadata": {},
   "outputs": [
    {
     "data": {
      "text/plain": [
       "0"
      ]
     },
     "execution_count": 116,
     "metadata": {},
     "output_type": "execute_result"
    }
   ],
   "source": [
    "single_nonprofit\n",
    "len(single_nonprofit)"
   ]
  },
  {
   "cell_type": "code",
   "execution_count": 403,
   "id": "dying-spelling",
   "metadata": {},
   "outputs": [
    {
     "name": "stdout",
     "output_type": "stream",
     "text": [
      "10 [['NEW YORK FOUNDLING' 'NY' '25' '2018' '2656' '157551022.0'\n",
      "  '156458569.0' '151287909.0' '67995525.0' '0' 'Yes' '3300044.0' '0.0'\n",
      "  '454051.0' '0' '0']\n",
      " ['NEW YORK FOUNDLING' 'NY' '25' '2018' '2656' '157551022.0'\n",
      "  '156458569.0' '151287909.0' '67995525.0' '0' 'Yes' '3300044.0' '0.0'\n",
      "  '454051.0' '0' '0']\n",
      " ['APPNA NEW YORK CHAPTER INC' 'NY' '5' '2019' '0' '77373.0' '57512.0'\n",
      "  '128207.0' '0.0' '0' 'No' '0.0' '0.0' '0.0' '100.0' '0.0']\n",
      " ['ARTS EAST NEW YORK INC' 'NY' '7' '2015' '0' '390472.0' '356888.0'\n",
      "  '99278.0' '0.0' '0' 'No' '0' '0' '0' '0.0' '0.0']\n",
      " ['CITY ACCESS NEW YORK INC' 'NY' '8' '2018' '41' '3100071.0' '3131090.0'\n",
      "  '1652680.0' '228581.0' '0' 'Yes' '134042.0' '0.0' '0.0' '99.9' '0.1']\n",
      " ['EDIBLE SCHOOLYARD NYC' 'NY' '20' '2018' '37' '2325191.0' '2130602.0'\n",
      "  '1239253.0' '15023.0' '0' 'Yes' '368301.0' '0.0' '29645.0' '84.96'\n",
      "  '0.02']\n",
      " ['NEW YORK ATHLETIC CLUB' 'NY' '19' '2018' '672' '61630228.0'\n",
      "  '60785620.0' '81733603.0' '8115617.0' '0' 'Yes' '1869539.0' '0.0'\n",
      "  '139674.0' '0' '0']\n",
      " ['NEW YORK CITY H2O' 'NY' '7' '2018' '0' '251960.0' '237267.0' '31496.0'\n",
      "  '0.0' '0' 'No' '60000.0' '0.0' '0.0' '100.0' '0.0']\n",
      " ['NEW YORK FELLOWSHIP INC' 'NY' '7' '2018' '3' '327144.0' '387484.0'\n",
      "  '639845.0' '13559.0' '0' 'No' '142325.0' '0' '66935.0' '0' '0']\n",
      " ['NEW YORK FOLKLORE SOCIETY INC' 'NY' '10' '2018' '5' '370763.0'\n",
      "  '369289.0' '21534.0' '34313.0' '0' 'No' '61970.0' '0' '0' '0' '0']]\n"
     ]
    }
   ],
   "source": [
    "print(len(nonprofit_data), nonprofit_data)"
   ]
  },
  {
   "cell_type": "code",
   "execution_count": 404,
   "id": "sexual-deputy",
   "metadata": {},
   "outputs": [],
   "source": [
    "nonprofit_data_safe = np.vstack([nonprofit_data_safe, nonprofit_data])"
   ]
  },
  {
   "cell_type": "code",
   "execution_count": 405,
   "id": "invalid-allah",
   "metadata": {},
   "outputs": [
    {
     "name": "stdout",
     "output_type": "stream",
     "text": [
      "2173 [['UNITED STATES AIKIDO FEDERATION' 'CT' '7' ... '0' '99.75' '0.25']\n",
      " ['UNITED STATES AIKIDO FEDERATION' 'CT' '7' ... '0' '99.75' '0.25']\n",
      " ['Mercy Hospital of Devils Lake Foundation' 'ND' '7' ... '82772.0' '0'\n",
      "  '0']\n",
      " ...\n",
      " ['NEW YORK CITY H2O' 'NY' '7' ... '0.0' '100.0' '0.0']\n",
      " ['NEW YORK FELLOWSHIP INC' 'NY' '7' ... '66935.0' '0' '0']\n",
      " ['NEW YORK FOLKLORE SOCIETY INC' 'NY' '10' ... '0' '0' '0']]\n"
     ]
    }
   ],
   "source": [
    "print(len(nonprofit_data_safe), nonprofit_data_safe)"
   ]
  },
  {
   "cell_type": "code",
   "execution_count": 406,
   "id": "clinical-sister",
   "metadata": {},
   "outputs": [],
   "source": [
    "np.save('data_safe_pg_new', nonprofit_data_safe)"
   ]
  },
  {
   "cell_type": "code",
   "execution_count": null,
   "id": "potential-mounting",
   "metadata": {},
   "outputs": [],
   "source": [
    "# full_header = {\n",
    "#     'accept': 'text/html,application/xhtml+xml,application/xml;q=0.9,image/webp,image/apng,*/*;q=0.8',\n",
    "#     'accept-encoding': 'gzip, deflate, br',\n",
    "#     'accept-language': 'en-US,en;q=0.8',\n",
    "#     'upgrade-insecure-requests': '1',\n",
    "#     'user-agent': 'Mozilla/5.0 (Windows NT 10.0; Win64; x64) AppleWebKit/537.36 (KHTML, like Gecko) Chrome/61.0.3163.100 Safari/537.36'\n",
    "# }\n",
    "\n",
    "#AVOID CAPTCHA use response= requests.get(page_link, headers= full_header)"
   ]
  },
  {
   "cell_type": "code",
   "execution_count": null,
   "id": "adaptive-schedule",
   "metadata": {},
   "outputs": [],
   "source": [
    "url = 'https://projects.propublica.org/nonprofits/organizations/264381874/201933159349301658/full'\n",
    "response = requests.get(url)\n",
    "page= response.text\n",
    "soup = BeautifulSoup(page, 'html.parser')"
   ]
  },
  {
   "cell_type": "code",
   "execution_count": null,
   "id": "found-conducting",
   "metadata": {},
   "outputs": [],
   "source": [
    "soup.prettify()"
   ]
  },
  {
   "cell_type": "code",
   "execution_count": null,
   "id": "italian-better",
   "metadata": {},
   "outputs": [],
   "source": [
    "new_link = soup.find('iframe').attrs['src']\n",
    "new_link"
   ]
  },
  {
   "cell_type": "code",
   "execution_count": null,
   "id": "paperback-culture",
   "metadata": {},
   "outputs": [],
   "source": [
    "document_link = 'https://projects.propublica.org' + new_link\n",
    "document_link\n",
    "url = document_link\n",
    "response = requests.get(url)\n",
    "page= response.text\n",
    "soup = BeautifulSoup(page, 'html.parser')"
   ]
  },
  {
   "cell_type": "code",
   "execution_count": null,
   "id": "applied-master",
   "metadata": {},
   "outputs": [],
   "source": [
    "doc_htmltxt = soup.find('iframe').attrs['srcdoc']\n",
    "docsoup = BeautifulSoup(doc_htmltxt, 'html.parser')\n",
    "doc_htmltxt2 = soup.find_all('iframe')[1].attrs['srcdoc']\n",
    "docsoup2 = BeautifulSoup(doc_htmltxt2, 'html.parser')"
   ]
  },
  {
   "cell_type": "code",
   "execution_count": null,
   "id": "fluid-robert",
   "metadata": {},
   "outputs": [],
   "source": [
    "docsoup.find('span', id = '/AppData/SubmissionHeaderAndDocument/ReturnHeader[1]/Filer[1]/BusinessName[1]/BusinessNameLine1Txt[1]').text\n",
    "docsoup.find('span', id = '/AppData/SubmissionHeaderAndDocument/ReturnHeader[1]/Filer[1]/USAddress[1]/StateAbbreviationCd[1]').text\n",
    "int(docsoup.find('span', id = '/AppData/SubmissionHeaderAndDocument/SubmissionDocument/IRS990[1]/VotingMembersGoverningBodyCnt[1]').text)\n",
    "int('20' + docsoup.find('span', class_ = 'styTYColor').text)\n",
    "docsoup.find('span', id = '/AppData/SubmissionHeaderAndDocument/SubmissionDocument/IRS990[1]/TotalEmployeeCnt[1]').text\n",
    "float(docsoup.find('span', id = '/AppData/SubmissionHeaderAndDocument/SubmissionDocument/IRS990[1]/CYTotalRevenueAmt[1]').text.replace(',', ''))\n",
    "float(docsoup.find('span', id = '/AppData/SubmissionHeaderAndDocument/SubmissionDocument/IRS990[1]/CYTotalExpensesAmt[1]').text.replace(',', ''))\n",
    "float(docsoup.find('span', id = '/AppData/SubmissionHeaderAndDocument/SubmissionDocument/IRS990[1]/TotalAssetsEOYAmt[1]').text.replace(',', ''))\n",
    "float(docsoup.find('span', id = '/AppData/SubmissionHeaderAndDocument/SubmissionDocument/IRS990[1]/TotalLiabilitiesEOYAmt[1]').text.replace(',', ''))\n",
    "if len(docsoup.find('span', id = '/AppData/SubmissionHeaderAndDocument/SubmissionDocument/IRS990[1]/CYSalariesCompEmpBnftPaidAmt[1]'))>2:\n",
    "    float(docsoup.find('span', id = '/AppData/SubmissionHeaderAndDocument/SubmissionDocument/IRS990[1]/CYSalariesCompEmpBnftPaidAmt[1]').text.replace(',', ''))\n",
    "else: 0    \n",
    "docsoup.find('span', id = '/AppData/SubmissionHeaderAndDocument/SubmissionDocument/IRS990[1]/FSAuditedInd[1]').text\n",
    "\n",
    "if docsoup.find('span', id = '/AppData/SubmissionHeaderAndDocument/SubmissionDocument/IRS990[1]/TotalReportableCompFromOrgAmt[1]') is not None:\n",
    "    float(docsoup.find('span', id = '/AppData/SubmissionHeaderAndDocument/SubmissionDocument/IRS990[1]/TotalReportableCompFromOrgAmt[1]').text.replace(',', ''))\n",
    "else: 0\n",
    "\n",
    "if docsoup.find('span', id = '/AppData/SubmissionHeaderAndDocument/SubmissionDocument/IRS990[1]/TotReportableCompRltdOrgAmt[1]') is not None:\n",
    "    float(docsoup.find('span', id = '/AppData/SubmissionHeaderAndDocument/SubmissionDocument/IRS990[1]/TotReportableCompRltdOrgAmt[1]').text.replace(',', ''))\n",
    "else: 0\n",
    "if docsoup.find('span', id = '/AppData/SubmissionHeaderAndDocument/SubmissionDocument/IRS990[1]/TotalOtherCompensationAmt[1]') is not None:\n",
    "    float(docsoup.find('span', id = '/AppData/SubmissionHeaderAndDocument/SubmissionDocument/IRS990[1]/TotalOtherCompensationAmt[1]').text.replace(',', ''))\n",
    "else: 0\n",
    "\n",
    "if docsoup2.find('span', id = '/AppData/SubmissionHeaderAndDocument/SubmissionDocument/IRS990ScheduleA[1]/PublicSupportCY509Pct[1]') is not None:\n",
    "    float(docsoup2.find('span', id = '/AppData/SubmissionHeaderAndDocument/SubmissionDocument/IRS990ScheduleA[1]/PublicSupportCY509Pct[1]').text.replace('%',''))\n",
    "else: 0 \n",
    "\n",
    "if docsoup2.find('span', id = '/AppData/SubmissionHeaderAndDocument/SubmissionDocument/IRS990ScheduleA[1]/InvestmentIncomeCYPct[1]') is not None:\n",
    "    float(docsoup2.find('span', id = '/AppData/SubmissionHeaderAndDocument/SubmissionDocument/IRS990ScheduleA[1]/InvestmentIncomeCYPct[1]').text.replace('%',''))\n",
    "else: 0     \n",
    "# \n",
    "# docsoup.find('span', id = '').text\n",
    "# docsoup2.find('span', id = '').text\n",
    "#Name, State, num governing, filing year, num employees, total revenue, total expenses, total assets, total liabilities, salaries paid, independent audit?, \n",
    "#Exec Comp from org, Exec comp from related, Exec comp other, public support %, investment income %\n",
    "\n"
   ]
  },
  {
   "cell_type": "code",
   "execution_count": null,
   "id": "hazardous-incentive",
   "metadata": {},
   "outputs": [],
   "source": []
  },
  {
   "cell_type": "code",
   "execution_count": null,
   "id": "lasting-briefing",
   "metadata": {},
   "outputs": [],
   "source": []
  }
 ],
 "metadata": {
  "kernelspec": {
   "display_name": "Python [conda env:metis] *",
   "language": "python",
   "name": "conda-env-metis-py"
  },
  "language_info": {
   "codemirror_mode": {
    "name": "ipython",
    "version": 3
   },
   "file_extension": ".py",
   "mimetype": "text/x-python",
   "name": "python",
   "nbconvert_exporter": "python",
   "pygments_lexer": "ipython3",
   "version": "3.8.8"
  }
 },
 "nbformat": 4,
 "nbformat_minor": 5
}
