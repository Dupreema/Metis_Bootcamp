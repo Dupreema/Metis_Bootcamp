{
 "cells": [
  {
   "cell_type": "code",
   "execution_count": 2,
   "metadata": {},
   "outputs": [],
   "source": [
    "import urllib.request\n",
    "\n",
    "url = \"http://web.mta.info/developers/data/nyct/turnstile/turnstile_{}.txt\"\n",
    "week_nums = [201219, 201226, 210102, 210109, 210116, 210123, 210130, 210206, 210213,\n",
    "210220, 210227, 210306, 210313, 210320]\n",
    "\n",
    "for week_num in week_nums:\n",
    "    urllib.request.urlretrieve(\"http://web.mta.info/developers/data/nyct/turnstile/turnstile_{}.txt\".format(week_num),\n",
    "                               \"data/turnstile_{}.txt\".format(week_num))\n",
    "'''\n",
    "Now Compile these in terminal using \n",
    "head -1 turnstile_210219.txt > Mta_datafile.csv\n",
    "tail -n +2 -q *.txt >> Mta_datafile.csv\n",
    "'''"
   ]
  }
 ],
 "metadata": {
  "kernelspec": {
   "display_name": "Python 3",
   "language": "python",
   "name": "python3"
  },
  "language_info": {
   "codemirror_mode": {
    "name": "ipython",
    "version": 3
   },
   "file_extension": ".py",
   "mimetype": "text/x-python",
   "name": "python",
   "nbconvert_exporter": "python",
   "pygments_lexer": "ipython3",
   "version": "3.8.8"
  }
 },
 "nbformat": 4,
 "nbformat_minor": 4
}
